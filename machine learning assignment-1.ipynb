{
 "cells": [
  {
   "cell_type": "code",
   "execution_count": null,
   "id": "0c3d1ef5",
   "metadata": {},
   "outputs": [],
   "source": [
    "1-  b)\n",
    "2 - d) 1,2 and 4\n",
    "3 -d)formulating the clustering problem\n",
    "4 - a)Euclidean distance\n",
    "5 - b) divisive clustering\n",
    "6 - d) all answers are correct\n",
    "7 - a) Divide the data points into groups\n",
    "8 - b) Unsupervised learning\n",
    "9 - d) all of the above\n",
    "10 - a) K-means clustering algorithm\n",
    "11- d) all the above\n",
    "12 -a) labeled data\n",
    "13. The hierarical cluster analysis follows three basic steps:\n",
    "    1)calculate the distance\n",
    "    2)link the cluster\n",
    "    3)choose a solution by selecting the right number of clusters\n",
    "    \n",
    "14. To measure the quality of a clustring we canuse the average silhouette coefficient value of all objects in the data set\n",
    "\n",
    "15. cluster analysis is a multivariate data mining technique whose goal is to groups\n",
    "     objects on a set of user selected characterstics or attributes\n",
    "    types of cluster analysis :-\n",
    "        1)hierarichal cluster\n",
    "        2) centroid- based\n",
    "        3) distribution -based\n",
    "        4) density- based"
   ]
  }
 ],
 "metadata": {
  "kernelspec": {
   "display_name": "Python 3 (ipykernel)",
   "language": "python",
   "name": "python3"
  },
  "language_info": {
   "codemirror_mode": {
    "name": "ipython",
    "version": 3
   },
   "file_extension": ".py",
   "mimetype": "text/x-python",
   "name": "python",
   "nbconvert_exporter": "python",
   "pygments_lexer": "ipython3",
   "version": "3.9.12"
  }
 },
 "nbformat": 4,
 "nbformat_minor": 5
}
