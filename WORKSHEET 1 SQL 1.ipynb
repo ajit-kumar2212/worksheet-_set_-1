{
 "cells": [
  {
   "cell_type": "code",
   "execution_count": null,
   "id": "1ed19b52",
   "metadata": {},
   "outputs": [],
   "source": [
    "1. (A) Create\n",
    "   (D) ALTER\n",
    "2. (A) Update\n",
    "   (B)Delete\n",
    "3.  B) Structured Query Language\n",
    "4.  B) Data Definition Language\n",
    "5.  A) Data Manipulation Language\n",
    "6.  C) Create Table A (B int,C float)\n",
    "7.  B) alter Table A ADD COLUMN D float;\n",
    "8.  B) alter Table A drop Column D\n",
    "9.  B) Alter Table A Alter Column D int\n",
    "10. A) Alter Table A Add Constraint Primary Key B\n",
    "11. Data-warehouse is the central repository or collection of data. It contains data from different \n",
    "    departments or systems of an organization integrated together into a central repository, so that we \n",
    "    can get the data from a single repository whenever required for analysis or other tasks\n",
    "    \n",
    "12. (OLAP is online analytical processing. The OLAP systems are specially designed for analytical \n",
    "    purposes i.e. they are deigned to analyse data efficiently. The queries used in these systems are \n",
    "    generally complex as these are used to do complex operations to analyse the data. The space \n",
    "    required for these systems is also greater than OLTP systems as these systems hold historical data. \n",
    "    \n",
    "    (OLTP is online transactions processing systems. The OLTP systems are used to handle large number \n",
    "    of short online transactions. The OLTP systems are mainly designed to do fast query processing. The\n",
    "    queries used in OLTP systems are generally simple. The space required for these systems is \n",
    "    comparatively smaller than OLAP systems.\n",
    "    \n",
    "13. The characteristics of a data warehouse are as follows:\n",
    " →→@  Subject-oriented: A data warehouse should contain information about a few well- defined \n",
    "subjects rather than the enterprise.\n",
    " →→@  Integrated: A data warehouse is an integrated repository of data. It contains information \n",
    "from various systems within an organisation.\n",
    " →→@  Non-volatile: The data values in a database cannot be changed without a valid reason.\n",
    " →→@  Time-variant: A data warehouse contains historical data for analysis\n",
    "     \n",
    "14. A star schema is the one in which a central fact table is surrounded by dimensional tables. \n",
    "    A star schema can be further of two types – simple and complex star schema.\n",
    "    A simple star schema has one fact table while a complex star schema may have multiple facts table.\n",
    "     \n",
    "15. SETL are the operations of Select Extract Transform Load.\n",
    "     Select operation means selecting the datawhich we want to analyse.\n",
    "     Extract operation includes connecting to the data source and pulling out the data.\n",
    "     Transform operation includes converting the data into a standard form before pushing the \n",
    "     data in to a schema. Load means loading the data into data warehouse"
   ]
  }
 ],
 "metadata": {
  "kernelspec": {
   "display_name": "Python 3 (ipykernel)",
   "language": "python",
   "name": "python3"
  },
  "language_info": {
   "codemirror_mode": {
    "name": "ipython",
    "version": 3
   },
   "file_extension": ".py",
   "mimetype": "text/x-python",
   "name": "python",
   "nbconvert_exporter": "python",
   "pygments_lexer": "ipython3",
   "version": "3.9.12"
  }
 },
 "nbformat": 4,
 "nbformat_minor": 5
}
