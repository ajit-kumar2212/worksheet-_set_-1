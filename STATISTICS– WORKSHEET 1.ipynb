{
 "cells": [
  {
   "cell_type": "code",
   "execution_count": null,
   "id": "9544daae",
   "metadata": {},
   "outputs": [],
   "source": [
    "1. a) True\n",
    "2. a)Central limit theorem\n",
    "3. c) Modeling bounded count data\n",
    "4. d)All the mentioned\n",
    "5. c)Poisson\n",
    "6. b)False\n",
    "7. b)hypothesis\n",
    "8. a)0\n",
    "9. c)Outliers cannot conform to the regression relationship\n",
    "10. Normal distribution is a continuous probability distribution that is symmetric about the mean,showing that data \n",
    "    near the mean are more frequent in occurrence than data far from the mean.\n",
    "    In graph form, normal distribution will appear as a bell curve.\n",
    "11. There are several ways to handle missing data:\n",
    "    a. Delete rows with missing data\n",
    "    b. Mean/Median/Mode imputation\n",
    "    c. Assigning a unique value\n",
    "    d. Predicting the missing values\n",
    "    e. Using an algorithm which supports missing values, like random forests.\n",
    "    The best method is to delete rows with missing data as it ensures that no bias or variance is added or removed, \n",
    "    and ultimately results in a robust and accurate model. However, this is only recommended if there’s a lot of \n",
    "    data to start with and the percentage of missing values is low.\n",
    "12. A/B testing is a form of hypothesis testing and two-sample hypothesis testing to compare two versions. The \n",
    "   control and variant, of a single variable. It is commonly used to improve and optimize user experience and\n",
    "    marketing.\n",
    "13. Mean imputation is generally bad practice because it doesn’t take into account feature correlation. For \n",
    "   example, imagine we have a table showing age and fitness score and imagine that an eighty-year-old has a \n",
    "    missing fitness score. If we took the average fitness score from an age range of 15 to 80, \n",
    "    then the eighty-year\u0002old will appear to have a much higher fitness score that he actually should.\n",
    "14. Linear regression is one of the statistical techniques used in predictive analysis, in this technique will identify \n",
    "    the strength of the impact that the independent variables show on deepened variables.\n",
    "15. Statistics have two main branches, namely:\n",
    "    a. Descriptive Statistics: This usually summarizes the data from the sample by making use of an index \n",
    "        like mean or standard deviation. The methods which are used in the descriptive statistics are \n",
    "     displaying, organizing, and describing the data.\n",
    "    b. Inferential Statistics: These conclude from data which are subject to random variations like \n",
    "        observation mistakes and other sample variation"
   ]
  }
 ],
 "metadata": {
  "kernelspec": {
   "display_name": "Python 3 (ipykernel)",
   "language": "python",
   "name": "python3"
  },
  "language_info": {
   "codemirror_mode": {
    "name": "ipython",
    "version": 3
   },
   "file_extension": ".py",
   "mimetype": "text/x-python",
   "name": "python",
   "nbconvert_exporter": "python",
   "pygments_lexer": "ipython3",
   "version": "3.9.12"
  }
 },
 "nbformat": 4,
 "nbformat_minor": 5
}
